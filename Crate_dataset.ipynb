{
  "nbformat": 4,
  "nbformat_minor": 0,
  "metadata": {
    "colab": {
      "provenance": [],
      "authorship_tag": "ABX9TyN04Rlur8Jcn+xrTa0dzbxp",
      "include_colab_link": true
    },
    "kernelspec": {
      "name": "python3",
      "display_name": "Python 3"
    },
    "language_info": {
      "name": "python"
    }
  },
  "cells": [
    {
      "cell_type": "markdown",
      "metadata": {
        "id": "view-in-github",
        "colab_type": "text"
      },
      "source": [
        "<a href=\"https://colab.research.google.com/github/JuanOspinaECI/IBAO_CAR/blob/main/Crate_dataset.ipynb\" target=\"_parent\"><img src=\"https://colab.research.google.com/assets/colab-badge.svg\" alt=\"Open In Colab\"/></a>"
      ]
    },
    {
      "cell_type": "code",
      "execution_count": 2,
      "metadata": {
        "colab": {
          "base_uri": "https://localhost:8080/",
          "height": 283
        },
        "id": "bG6kf60b-83c",
        "outputId": "0e1697d8-c421-4c37-d3b7-1d156c550404"
      },
      "outputs": [
        {
          "output_type": "execute_result",
          "data": {
            "text/plain": [
              "[<matplotlib.lines.Line2D at 0x7f936622ee90>]"
            ]
          },
          "metadata": {},
          "execution_count": 2
        },
        {
          "output_type": "display_data",
          "data": {
            "text/plain": [
              "<Figure size 432x288 with 6 Axes>"
            ],
            "image/png": "[encoded data removed]"
          },
          "metadata": {
            "needs_background": "light"
          }
        }
      ],
      "source": [
        "import pandas as pd\n",
        "import numpy as np\n",
        "import matplotlib.pyplot as plt\n",
        "import xlrd\n",
        "from math import log, e\n",
        "wb=xlrd.open_workbook(\"/content/content/mov_adelante.xlsx\")\n",
        "sheet = wb.sheet_by_index(0)\n",
        "# Lectura de las variables de la IMU\n",
        "ax=sheet.col_values(0)\n",
        "ay=sheet.col_values(1)\n",
        "az=sheet.col_values(2)\n",
        "gx=sheet.col_values(3)\n",
        "gy=sheet.col_values(4)\n",
        "gz=sheet.col_values(5)\n",
        "# Gráfica de las variables\n",
        "plt.subplot(321)\n",
        "plt.plot(ax)\n",
        "plt.subplot(322)\n",
        "plt.plot(ay)\n",
        "plt.subplot(323)\n",
        "plt.plot(az)\n",
        "plt.subplot(324)\n",
        "plt.plot(gx)\n",
        "plt.subplot(325)\n",
        "plt.plot(gy)\n",
        "plt.subplot(326)\n",
        "plt.plot(gz)"
      ]
    },
    {
      "cell_type": "code",
      "source": [
        "N=10.0                      # Número de muestras\n",
        "nV=np.array(np.shape(ax))   # Número de muestras de la señal\n",
        "segment = np.floor(nV/N)    # Número de segmetos de la señal\n",
        "print(\"Segmentos : \",segment)"
      ],
      "metadata": {
        "colab": {
          "base_uri": "https://localhost:8080/"
        },
        "id": "ncznGtA5B_UV",
        "outputId": "43d918b2-0774-4fa4-a052-7ba1db98a11e"
      },
      "execution_count": 3,
      "outputs": [
        {
          "output_type": "stream",
          "name": "stdout",
          "text": [
            "Segmentos :  [1318.]\n"
          ]
        }
      ]
    },
    {
      "cell_type": "code",
      "source": [
        "var_ventana_ax_adelante=[]\n",
        "var_ventana_ay_adelante=[]\n",
        "var_ventana_az_adelante=[]\n",
        "var_ventana_gx_adelante=[]\n",
        "var_ventana_gy_adelante=[]\n",
        "var_ventana_gz_adelante=[]\n",
        "\n",
        "def entropy(labels, base=None):\n",
        "  value,counts = np.unique(labels, return_counts=True)\n",
        "  norm_counts = counts / counts.sum()\n",
        "  base = e if base is None else base\n",
        "  return -(norm_counts * np.log(norm_counts)/np.log(base)).sum()\n",
        "\n",
        "for i in range (0,np.int(segment)):\n",
        "  ventana_ax=ax[int(i*N+1):int((i+1)*N)]\n",
        "  #np.array(ventana_ax).astype(np.float)\n",
        "  ventana_ay=ay[int(i*N+1):int((i+1)*N)]\n",
        "  ventana_az=az[int(i*N+1):int((i+1)*N)]\n",
        "  ventana_gx=gx[int(i*N+1):int((i+1)*N)]\n",
        "  ventana_gy=gy[int(i*N+1):int((i+1)*N)]\n",
        "  ventana_gz=gz[int(i*N+1):int((i+1)*N)]\n",
        "  var_ventana_ax_adelante.append(np.var(ventana_ax))\n",
        "  var_ventana_ay_adelante.append(np.var(ventana_ay))\n",
        "  var_ventana_az_adelante.append(np.var(ventana_az))\n",
        "  var_ventana_gx_adelante.append(np.var(ventana_gx))\n",
        "  var_ventana_gy_adelante.append(np.var(ventana_gy))\n",
        "  var_ventana_gz_adelante.append(np.var(ventana_gz))\n",
        "\n",
        "#print(var_ventana_ax_adelante)\n",
        "#print(var_ventana_ay_adelante)\n",
        "#print(var_ventana_az_adelante)\n",
        "#print(var_ventana_gx_adelante)\n",
        "#print(var_ventana_gy_adelante)\n",
        "#print(var_ventana_gz_adeante)"
      ],
      "metadata": {
        "colab": {
          "base_uri": "https://localhost:8080/"
        },
        "id": "0kpu5FRCCQkt",
        "outputId": "adf69847-fd6c-42bd-f286-8bb096e38e7b"
      },
      "execution_count": 4,
      "outputs": [
        {
          "output_type": "stream",
          "name": "stderr",
          "text": [
            "/usr/local/lib/python3.7/dist-packages/ipykernel_launcher.py:14: DeprecationWarning: `np.int` is a deprecated alias for the builtin `int`. To silence this warning, use `int` by itself. Doing this will not modify any behavior and is safe. When replacing `np.int`, you may wish to use e.g. `np.int64` or `np.int32` to specify the precision. If you wish to review your current use, check the release note link for additional information.\n",
            "Deprecated in NumPy 1.20; for more details and guidance: https://numpy.org/devdocs/release/1.20.0-notes.html#deprecations\n",
            "  \n"
          ]
        }
      ]
    },
    {
      "cell_type": "code",
      "source": [
        "wb=xlrd.open_workbook(\"/content/content/mov_atras.xlsx\")\n",
        "sheet = wb.sheet_by_index(0)\n",
        "# Lectura de las variables de la IMU\n",
        "ax=sheet.col_values(0)\n",
        "ay=sheet.col_values(1)\n",
        "az=sheet.col_values(2)\n",
        "gx=sheet.col_values(3)\n",
        "gy=sheet.col_values(4)\n",
        "gz=sheet.col_values(5)"
      ],
      "metadata": {
        "id": "ypN9YqmrJ8ip"
      },
      "execution_count": 5,
      "outputs": []
    },
    {
      "cell_type": "code",
      "source": [
        "N=10.0                      # Número de muestras\n",
        "nV=np.array(np.shape(ax))   # Número de muestras de la señal\n",
        "segment = np.floor(nV/N)    # Número de segmetos de la señal\n",
        "print(\"Segmentos : \",segment)"
      ],
      "metadata": {
        "colab": {
          "base_uri": "https://localhost:8080/"
        },
        "id": "W2xvAuwIJuqT",
        "outputId": "809674ae-6c26-423a-eedd-14e3f4fa795f"
      },
      "execution_count": 6,
      "outputs": [
        {
          "output_type": "stream",
          "name": "stdout",
          "text": [
            "Segmentos :  [1210.]\n"
          ]
        }
      ]
    },
    {
      "cell_type": "code",
      "source": [
        "var_ventana_ax_atras=[]\n",
        "var_ventana_ay_atras=[]\n",
        "var_ventana_az_atras=[]\n",
        "var_ventana_gx_atras=[]\n",
        "var_ventana_gy_atras=[]\n",
        "var_ventana_gz_atras=[]\n",
        "\n",
        "def entropy(labels, base=None):\n",
        "  value,counts = np.unique(labels, return_counts=True)\n",
        "  norm_counts = counts / counts.sum()\n",
        "  base = e if base is None else base\n",
        "  return -(norm_counts * np.log(norm_counts)/np.log(base)).sum()\n",
        "\n",
        "for i in range (0,np.int(segment)):\n",
        "  ventana_ax=ax[int(i*N+1):int((i+1)*N)]\n",
        "  #np.array(ventana_ax).astype(np.float)\n",
        "  ventana_ay=ay[int(i*N+1):int((i+1)*N)]\n",
        "  ventana_az=az[int(i*N+1):int((i+1)*N)]\n",
        "  ventana_gx=gx[int(i*N+1):int((i+1)*N)]\n",
        "  ventana_gy=gy[int(i*N+1):int((i+1)*N)]\n",
        "  ventana_gz=gz[int(i*N+1):int((i+1)*N)]\n",
        "  var_ventana_ax_atras.append(np.var(ventana_ax))\n",
        "  var_ventana_ay_atras.append(np.var(ventana_ay))\n",
        "  var_ventana_az_atras.append(np.var(ventana_az))\n",
        "  var_ventana_gx_atras.append(np.var(ventana_gx))\n",
        "  var_ventana_gy_atras.append(np.var(ventana_gy))\n",
        "  var_ventana_gz_atras.append(np.var(ventana_gz))"
      ],
      "metadata": {
        "colab": {
          "base_uri": "https://localhost:8080/"
        },
        "id": "Upq8oNOcKcKq",
        "outputId": "b01b4e3c-dc77-4619-a0a8-13c35e2878d6"
      },
      "execution_count": 7,
      "outputs": [
        {
          "output_type": "stream",
          "name": "stderr",
          "text": [
            "/usr/local/lib/python3.7/dist-packages/ipykernel_launcher.py:14: DeprecationWarning: `np.int` is a deprecated alias for the builtin `int`. To silence this warning, use `int` by itself. Doing this will not modify any behavior and is safe. When replacing `np.int`, you may wish to use e.g. `np.int64` or `np.int32` to specify the precision. If you wish to review your current use, check the release note link for additional information.\n",
            "Deprecated in NumPy 1.20; for more details and guidance: https://numpy.org/devdocs/release/1.20.0-notes.html#deprecations\n",
            "  \n"
          ]
        }
      ]
    },
    {
      "cell_type": "code",
      "source": [
        "wb=xlrd.open_workbook(\"/content/content/mov_izquierda.xlsx\")\n",
        "sheet = wb.sheet_by_index(0)\n",
        "# Lectura de las variables de la IMU\n",
        "ax=sheet.col_values(0)\n",
        "ay=sheet.col_values(1)\n",
        "az=sheet.col_values(2)\n",
        "gx=sheet.col_values(3)\n",
        "gy=sheet.col_values(4)\n",
        "gz=sheet.col_values(5)"
      ],
      "metadata": {
        "id": "l_EflXcuLBID"
      },
      "execution_count": 8,
      "outputs": []
    },
    {
      "cell_type": "code",
      "source": [
        "N=10.0                      # Número de muestras\n",
        "nV=np.array(np.shape(ax))   # Número de muestras de la señal\n",
        "segment = np.floor(nV/N)    # Número de segmetos de la señal\n",
        "print(\"Segmentos : \",segment)"
      ],
      "metadata": {
        "colab": {
          "base_uri": "https://localhost:8080/"
        },
        "id": "csOVFwiDLRXI",
        "outputId": "c1d53c50-508c-4eaf-c28c-f7e500d6bfdc"
      },
      "execution_count": 9,
      "outputs": [
        {
          "output_type": "stream",
          "name": "stdout",
          "text": [
            "Segmentos :  [1228.]\n"
          ]
        }
      ]
    },
    {
      "cell_type": "code",
      "source": [
        "var_ventana_ax_izquierda=[]\n",
        "var_ventana_ay_izquierda=[]\n",
        "var_ventana_az_izquierda=[]\n",
        "var_ventana_gx_izquierda=[]\n",
        "var_ventana_gy_izquierda=[]\n",
        "var_ventana_gz_izquierda=[]\n",
        "\n",
        "def entropy(labels, base=None):\n",
        "  value,counts = np.unique(labels, return_counts=True)\n",
        "  norm_counts = counts / counts.sum()\n",
        "  base = e if base is None else base\n",
        "  return -(norm_counts * np.log(norm_counts)/np.log(base)).sum()\n",
        "\n",
        "for i in range (0,np.int(segment)):\n",
        "  ventana_ax=ax[int(i*N+1):int((i+1)*N)]\n",
        "  #np.array(ventana_ax).astype(np.float)\n",
        "  ventana_ay=ay[int(i*N+1):int((i+1)*N)]\n",
        "  ventana_az=az[int(i*N+1):int((i+1)*N)]\n",
        "  ventana_gx=gx[int(i*N+1):int((i+1)*N)]\n",
        "  ventana_gy=gy[int(i*N+1):int((i+1)*N)]\n",
        "  ventana_gz=gz[int(i*N+1):int((i+1)*N)]\n",
        "  var_ventana_ax_izquierda.append(np.var(ventana_ax))\n",
        "  var_ventana_ay_izquierda.append(np.var(ventana_ay))\n",
        "  var_ventana_az_izquierda.append(np.var(ventana_az))\n",
        "  var_ventana_gx_izquierda.append(np.var(ventana_gx))\n",
        "  var_ventana_gy_izquierda.append(np.var(ventana_gy))\n",
        "  var_ventana_gz_izquierda.append(np.var(ventana_gz))"
      ],
      "metadata": {
        "colab": {
          "base_uri": "https://localhost:8080/"
        },
        "id": "FeTP51KELulC",
        "outputId": "75a5bcce-789a-4565-ada4-823d7f63e4cb"
      },
      "execution_count": 10,
      "outputs": [
        {
          "output_type": "stream",
          "name": "stderr",
          "text": [
            "/usr/local/lib/python3.7/dist-packages/ipykernel_launcher.py:14: DeprecationWarning: `np.int` is a deprecated alias for the builtin `int`. To silence this warning, use `int` by itself. Doing this will not modify any behavior and is safe. When replacing `np.int`, you may wish to use e.g. `np.int64` or `np.int32` to specify the precision. If you wish to review your current use, check the release note link for additional information.\n",
            "Deprecated in NumPy 1.20; for more details and guidance: https://numpy.org/devdocs/release/1.20.0-notes.html#deprecations\n",
            "  \n"
          ]
        }
      ]
    },
    {
      "cell_type": "code",
      "source": [
        "wb=xlrd.open_workbook(\"/content/content/mov_derecha.xlsx\")\n",
        "sheet = wb.sheet_by_index(0)\n",
        "# Lectura de las variables de la IMU\n",
        "ax=sheet.col_values(0)\n",
        "ay=sheet.col_values(1)\n",
        "az=sheet.col_values(2)\n",
        "gx=sheet.col_values(3)\n",
        "gy=sheet.col_values(4)\n",
        "gz=sheet.col_values(5)"
      ],
      "metadata": {
        "id": "Lhe_A_lpL-S9"
      },
      "execution_count": 11,
      "outputs": []
    },
    {
      "cell_type": "code",
      "source": [
        "N=10.0                      # Número de muestras\n",
        "nV=np.array(np.shape(ax))   # Número de muestras de la señal\n",
        "segment = np.floor(nV/N)    # Número de segmetos de la señal\n",
        "print(\"Segmentos : \",segment)"
      ],
      "metadata": {
        "colab": {
          "base_uri": "https://localhost:8080/"
        },
        "id": "_OqjrFS7MRdu",
        "outputId": "8446788d-80bf-4d5b-afeb-77476fa6018e"
      },
      "execution_count": 12,
      "outputs": [
        {
          "output_type": "stream",
          "name": "stdout",
          "text": [
            "Segmentos :  [1083.]\n"
          ]
        }
      ]
    },
    {
      "cell_type": "code",
      "source": [
        "var_ventana_ax_derecha=[]\n",
        "var_ventana_ay_derecha=[]\n",
        "var_ventana_az_derecha=[]\n",
        "var_ventana_gx_derecha=[]\n",
        "var_ventana_gy_derecha=[]\n",
        "var_ventana_gz_derecha=[]\n",
        "\n",
        "def entropy(labels, base=None):\n",
        "  value,counts = np.unique(labels, return_counts=True)\n",
        "  norm_counts = counts / counts.sum()\n",
        "  base = e if base is None else base\n",
        "  return -(norm_counts * np.log(norm_counts)/np.log(base)).sum()\n",
        "\n",
        "for i in range (0,np.int(segment)):\n",
        "  ventana_ax=ax[int(i*N+1):int((i+1)*N)]\n",
        "  #np.array(ventana_ax).astype(np.float)\n",
        "  ventana_ay=ay[int(i*N+1):int((i+1)*N)]\n",
        "  ventana_az=az[int(i*N+1):int((i+1)*N)]\n",
        "  ventana_gx=gx[int(i*N+1):int((i+1)*N)]\n",
        "  ventana_gy=gy[int(i*N+1):int((i+1)*N)]\n",
        "  ventana_gz=gz[int(i*N+1):int((i+1)*N)]\n",
        "  var_ventana_ax_derecha.append(np.var(ventana_ax))\n",
        "  var_ventana_ay_derecha.append(np.var(ventana_ay))\n",
        "  var_ventana_az_derecha.append(np.var(ventana_az))\n",
        "  var_ventana_gx_derecha.append(np.var(ventana_gx))\n",
        "  var_ventana_gy_derecha.append(np.var(ventana_gy))\n",
        "  var_ventana_gz_derecha.append(np.var(ventana_gz))"
      ],
      "metadata": {
        "colab": {
          "base_uri": "https://localhost:8080/"
        },
        "id": "GFItsOH8MWd2",
        "outputId": "f61fd718-506f-4317-ea31-593a6bff8434"
      },
      "execution_count": 13,
      "outputs": [
        {
          "output_type": "stream",
          "name": "stderr",
          "text": [
            "/usr/local/lib/python3.7/dist-packages/ipykernel_launcher.py:14: DeprecationWarning: `np.int` is a deprecated alias for the builtin `int`. To silence this warning, use `int` by itself. Doing this will not modify any behavior and is safe. When replacing `np.int`, you may wish to use e.g. `np.int64` or `np.int32` to specify the precision. If you wish to review your current use, check the release note link for additional information.\n",
            "Deprecated in NumPy 1.20; for more details and guidance: https://numpy.org/devdocs/release/1.20.0-notes.html#deprecations\n",
            "  \n"
          ]
        }
      ]
    },
    {
      "cell_type": "code",
      "source": [
        "wb=xlrd.open_workbook(\"/content/content/mov_detenerse.xlsx\")\n",
        "sheet = wb.sheet_by_index(0)\n",
        "# Lectura de las variables de la IMU\n",
        "ax=sheet.col_values(0)\n",
        "ay=sheet.col_values(1)\n",
        "az=sheet.col_values(2)\n",
        "gx=sheet.col_values(3)\n",
        "gy=sheet.col_values(4)\n",
        "gz=sheet.col_values(5)"
      ],
      "metadata": {
        "id": "h5n4H75LMj9Y"
      },
      "execution_count": 14,
      "outputs": []
    },
    {
      "cell_type": "code",
      "source": [
        "N=10.0                      # Número de muestras\n",
        "nV=np.array(np.shape(ax))   # Número de muestras de la señal\n",
        "segment = np.floor(nV/N)    # Número de segmetos de la señal\n",
        "print(\"Segmentos : \",segment)"
      ],
      "metadata": {
        "colab": {
          "base_uri": "https://localhost:8080/"
        },
        "id": "MkzDCHBDMouD",
        "outputId": "f37d8c3d-093f-4d79-a7da-3fe860409ef7"
      },
      "execution_count": 15,
      "outputs": [
        {
          "output_type": "stream",
          "name": "stdout",
          "text": [
            "Segmentos :  [1115.]\n"
          ]
        }
      ]
    },
    {
      "cell_type": "code",
      "source": [
        "var_ventana_ax_detenerse=[]\n",
        "var_ventana_ay_detenerse=[]\n",
        "var_ventana_az_detenerse=[]\n",
        "var_ventana_gx_detenerse=[]\n",
        "var_ventana_gy_detenerse=[]\n",
        "var_ventana_gz_detenerse=[]\n",
        "\n",
        "def entropy(labels, base=None):\n",
        "  value,counts = np.unique(labels, return_counts=True)\n",
        "  norm_counts = counts / counts.sum()\n",
        "  base = e if base is None else base\n",
        "  return -(norm_counts * np.log(norm_counts)/np.log(base)).sum()\n",
        "\n",
        "for i in range (0,np.int(segment)):\n",
        "  ventana_ax=ax[int(i*N+1):int((i+1)*N)]\n",
        "  #np.array(ventana_ax).astype(np.float)\n",
        "  ventana_ay=ay[int(i*N+1):int((i+1)*N)]\n",
        "  ventana_az=az[int(i*N+1):int((i+1)*N)]\n",
        "  ventana_gx=gx[int(i*N+1):int((i+1)*N)]\n",
        "  ventana_gy=gy[int(i*N+1):int((i+1)*N)]\n",
        "  ventana_gz=gz[int(i*N+1):int((i+1)*N)]\n",
        "  var_ventana_ax_detenerse.append(np.var(ventana_ax))\n",
        "  var_ventana_ay_detenerse.append(np.var(ventana_ay))\n",
        "  var_ventana_az_detenerse.append(np.var(ventana_az))\n",
        "  var_ventana_gx_detenerse.append(np.var(ventana_gx))\n",
        "  var_ventana_gy_detenerse.append(np.var(ventana_gy))\n",
        "  var_ventana_gz_detenerse.append(np.var(ventana_gz))"
      ],
      "metadata": {
        "colab": {
          "base_uri": "https://localhost:8080/"
        },
        "id": "dsq5HqvRM9ZT",
        "outputId": "6dd86aac-f6b8-4aae-b549-7efc7f386494"
      },
      "execution_count": 16,
      "outputs": [
        {
          "output_type": "stream",
          "name": "stderr",
          "text": [
            "/usr/local/lib/python3.7/dist-packages/ipykernel_launcher.py:14: DeprecationWarning: `np.int` is a deprecated alias for the builtin `int`. To silence this warning, use `int` by itself. Doing this will not modify any behavior and is safe. When replacing `np.int`, you may wish to use e.g. `np.int64` or `np.int32` to specify the precision. If you wish to review your current use, check the release note link for additional information.\n",
            "Deprecated in NumPy 1.20; for more details and guidance: https://numpy.org/devdocs/release/1.20.0-notes.html#deprecations\n",
            "  \n"
          ]
        }
      ]
    },
    {
      "cell_type": "code",
      "source": [
        "N=np.size(var_ventana_ay_adelante)\n",
        "clases=[]\n",
        "clasePI=[]\n",
        "for n in range(N):\n",
        "  clases.append(0)\n",
        "N=np.size(var_ventana_ay_atras)\n",
        "for n in range(N):\n",
        "  clases.append(1)\n",
        "N=np.size(var_ventana_ay_derecha)\n",
        "for n in range(N):\n",
        "  clases.append(2)\n",
        "N=np.size(var_ventana_ay_izquierda)\n",
        "for n in range(N):\n",
        "  clases.append(3)\n",
        "N=np.size(var_ventana_ay_detenerse)\n",
        "for n in range(N):\n",
        "  clases.append(4)    \n",
        "clases=np.transpose(clases)\n",
        "\n",
        "print(clases)"
      ],
      "metadata": {
        "colab": {
          "base_uri": "https://localhost:8080/"
        },
        "id": "iPEBHDmQNdDn",
        "outputId": "36765928-6600-4d42-8a17-8ba965a810e9"
      },
      "execution_count": 17,
      "outputs": [
        {
          "output_type": "stream",
          "name": "stdout",
          "text": [
            "[0 0 0 ... 4 4 4]\n"
          ]
        }
      ]
    },
    {
      "cell_type": "code",
      "source": [
        "# Unión de las dos características anteriores\n",
        "caracteristica1=var_ventana_ax_adelante+var_ventana_ax_atras+var_ventana_ax_derecha+var_ventana_ax_izquierda+var_ventana_ax_detenerse\n",
        "caracteristica2=var_ventana_ay_adelante+var_ventana_ay_atras+var_ventana_ay_derecha+var_ventana_ay_izquierda+var_ventana_ay_detenerse\n",
        "caracteristica3=var_ventana_az_adelante+var_ventana_az_atras+var_ventana_az_derecha+var_ventana_az_izquierda+var_ventana_az_detenerse\n",
        "caracteristica4=var_ventana_gx_adelante+var_ventana_gx_atras+var_ventana_gx_derecha+var_ventana_gx_izquierda+var_ventana_gx_detenerse\n",
        "caracteristica5=var_ventana_gy_adelante+var_ventana_gy_atras+var_ventana_gy_derecha+var_ventana_gy_izquierda+var_ventana_gy_detenerse\n",
        "caracteristica6=var_ventana_gz_adelante+var_ventana_gz_atras+var_ventana_gz_derecha+var_ventana_gz_izquierda+var_ventana_gz_detenerse\n",
        "caracteristicas=[caracteristica1,caracteristica2,caracteristica3,caracteristica4,caracteristica5,caracteristica6]\n",
        "caracteristicas=np.array(np.transpose(caracteristicas))"
      ],
      "metadata": {
        "id": "s1odq--OOKWA"
      },
      "execution_count": 18,
      "outputs": []
    },
    {
      "cell_type": "code",
      "source": [
        "# Creación del DataFrame\n",
        "import pandas as pd\n",
        "\n",
        "datos={'Varianza_aX': caracteristica1,\n",
        "       'Varianza_aY': caracteristica2,\n",
        "       'Varianza_aZ': caracteristica3,\n",
        "       'Varianza_gx': caracteristica4,\n",
        "       'Varianza_gy': caracteristica5,\n",
        "       'Varianza_gz': caracteristica6,\n",
        "       'Movimiento':clases}\n",
        "\n",
        "datosDF=pd.DataFrame(datos)\n",
        "print(datosDF)"
      ],
      "metadata": {
        "colab": {
          "base_uri": "https://localhost:8080/"
        },
        "id": "3hh6nP00SsQw",
        "outputId": "dafaa02f-5d89-4ba5-8799-1c2f13e97538"
      },
      "execution_count": 19,
      "outputs": [
        {
          "output_type": "stream",
          "name": "stdout",
          "text": [
            "      Varianza_aX  Varianza_aY  Varianza_aZ  Varianza_gx  Varianza_gy  \\\n",
            "0        0.001365     0.011936     0.011778  1293.799491  2924.823462   \n",
            "1        0.011573     0.021425     0.001084  1986.847551  2192.236477   \n",
            "2        0.012978     0.007467     0.016025   691.315200   248.220899   \n",
            "3        0.072395     0.022188     0.010044    82.203077  1351.728111   \n",
            "4        0.003514     0.001444     0.003600    10.943622  2821.690844   \n",
            "...           ...          ...          ...          ...          ...   \n",
            "5949     0.012467     0.740077     0.054706  8350.378267  5144.071178   \n",
            "5950     0.264528     0.181173     0.116484  7801.789432   411.473956   \n",
            "5951     0.001289     0.049558     0.000765   397.834795    47.206625   \n",
            "5952     0.028711     0.068854     0.072822   840.265543   549.929756   \n",
            "5953     0.009311     0.706580     0.026188  4395.844728  3020.973099   \n",
            "\n",
            "       Varianza_gz  Movimiento  \n",
            "0       163.117277           0  \n",
            "1      1160.797077           0  \n",
            "2       264.506380           0  \n",
            "3       287.912951           0  \n",
            "4      1193.783269           0  \n",
            "...            ...         ...  \n",
            "5949  16491.932622           4  \n",
            "5950   6137.929440           4  \n",
            "5951     11.384222           4  \n",
            "5952    646.672133           4  \n",
            "5953   6371.034356           4  \n",
            "\n",
            "[5954 rows x 7 columns]\n"
          ]
        }
      ]
    },
    {
      "cell_type": "code",
      "source": [
        "#Creación del archivo de Excel\n",
        "datosDF.to_excel(\"caracteristicas.xlsx\")"
      ],
      "metadata": {
        "id": "GVjePclbTSJB"
      },
      "execution_count": 20,
      "outputs": []
    }
  ]
}